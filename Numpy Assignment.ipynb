{
 "cells": [
  {
   "cell_type": "code",
   "execution_count": 1,
   "metadata": {},
   "outputs": [],
   "source": [
    "###Write a function so that the columns of the output matrix are powers of the input vector. "
   ]
  },
  {
   "cell_type": "code",
   "execution_count": 10,
   "metadata": {},
   "outputs": [
    {
     "name": "stdout",
     "output_type": "stream",
     "text": [
      "When Increasing is False\n",
      "[[ 1  1  1]\n",
      " [ 4  2  1]\n",
      " [ 9  3  1]\n",
      " [16  4  1]\n",
      " [25  5  1]]\n",
      "When Increasing is True\n",
      "[[ 1  1  1]\n",
      " [ 1  2  4]\n",
      " [ 1  3  9]\n",
      " [ 1  4 16]\n",
      " [ 1  5 25]]\n"
     ]
    }
   ],
   "source": [
    "import numpy as np\n",
    "def Vect(x,N,increasing=False):\n",
    "    if increasing==False:\n",
    "        a=np.column_stack([x**(N-1-i) for i in range(N)])\n",
    "        print(a)\n",
    "    else:\n",
    "        a=np.column_stack([x**(N-1-i) for i in range(N)])\n",
    "        print(np.flip(a,1))\n",
    "    \n",
    "inp = np.array([1,2,3,4,5])\n",
    "no = 3\n",
    "print('When Increasing is False')\n",
    "op=Vect(inp,no,False)\n",
    "\n",
    "inp = np.array([1,2,3,4,5])\n",
    "no = 3\n",
    "print('When Increasing is True')\n",
    "op=Vect(inp,no,True)\n",
    "\n"
   ]
  },
  {
   "cell_type": "code",
   "execution_count": 11,
   "metadata": {},
   "outputs": [],
   "source": [
    "###Question: Write a function to find moving average in an array over a window:  Test it over [3, 5, 7, 2, 8, 10, 11, 65, 72, 81, 99, 100, 150] and window of 3."
   ]
  },
  {
   "cell_type": "code",
   "execution_count": 1,
   "metadata": {},
   "outputs": [
    {
     "name": "stdout",
     "output_type": "stream",
     "text": [
      "[5.0, 4.666666666666667, 5.666666666666667, 6.666666666666667, 9.666666666666666, 28.666666666666668, 49.333333333333336, 72.66666666666667, 84.0, 93.33333333333333, 116.33333333333333]\n"
     ]
    }
   ],
   "source": [
    "import numpy as np\n",
    "x=[3, 5, 7, 2, 8, 10, 11, 65, 72, 81, 99, 100, 150]\n",
    "a=np.array(x)\n",
    "m=3\n",
    "n=[]\n",
    "for i in range(len(a)-m+1):\n",
    "    b=a[i]\n",
    "    sum=0\n",
    "    for j in range(0,m):\n",
    "        sum=sum+a[i+j]\n",
    "    n.append(sum/m)\n",
    "print(n) "
   ]
  },
  {
   "cell_type": "code",
   "execution_count": null,
   "metadata": {},
   "outputs": [],
   "source": [
    "\n"
   ]
  }
 ],
 "metadata": {
  "kernelspec": {
   "display_name": "Python 3",
   "language": "python",
   "name": "python3"
  },
  "language_info": {
   "codemirror_mode": {
    "name": "ipython",
    "version": 3
   },
   "file_extension": ".py",
   "mimetype": "text/x-python",
   "name": "python",
   "nbconvert_exporter": "python",
   "pygments_lexer": "ipython3",
   "version": "3.7.6"
  }
 },
 "nbformat": 4,
 "nbformat_minor": 4
}
